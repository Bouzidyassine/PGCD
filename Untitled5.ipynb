{
 "cells": [
  {
   "cell_type": "code",
   "execution_count": null,
   "metadata": {},
   "outputs": [],
   "source": [
    "def pgcd (n,v):\n",
    "    a1=n\n",
    "    a2=v\n",
    "    while a2!=0:\n",
    "        tem=a1\n",
    "        a1=a2\n",
    "        a2=tem%a1\n",
    "    return a1\n",
    "\n",
    "n= int(input(\"Entrez un nombre  : \"))\n",
    "v=int(input(\"Entrez un nombre  : \"))\n",
    "print( \"le PGCD de n=\" ,n,\" et de v = \",v,\" est\",pgcd(n,v) )"
   ]
  }
 ],
 "metadata": {
  "kernelspec": {
   "display_name": "Python 3",
   "language": "python",
   "name": "python3"
  },
  "language_info": {
   "codemirror_mode": {
    "name": "ipython",
    "version": 3
   },
   "file_extension": ".py",
   "mimetype": "text/x-python",
   "name": "python",
   "nbconvert_exporter": "python",
   "pygments_lexer": "ipython3",
   "version": "3.8.3"
  }
 },
 "nbformat": 4,
 "nbformat_minor": 4
}
